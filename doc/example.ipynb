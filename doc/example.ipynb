{
 "cells": [
  {
   "cell_type": "code",
   "execution_count": 1,
   "metadata": {},
   "outputs": [],
   "source": [
    "from statannotations.statannotations import Annotator\n",
    "%matplotlib inline\n",
    "import matplotlib.pyplot as plt\n",
    "import seaborn as sns\n",
    "import pandas as pd\n",
    "\n",
    "\n",
    "sns.set(style=\"whitegrid\")"
   ]
  },
  {
   "cell_type": "markdown",
   "metadata": {},
   "source": [
    "### Boxplot non-hue"
   ]
  },
  {
   "cell_type": "markdown",
   "metadata": {},
   "source": [
    "#### Multiple comparisons"
   ]
  },
  {
   "cell_type": "markdown",
   "metadata": {},
   "source": [
    "By default, no multiple comparisons correction is applied."
   ]
  },
  {
   "cell_type": "code",
   "execution_count": 2,
   "metadata": {},
   "outputs": [],
   "source": [
    "df = sns.load_dataset(\"tips\")"
   ]
  },
  {
   "cell_type": "code",
   "execution_count": 3,
   "metadata": {},
   "outputs": [
    {
     "name": "stdout",
     "output_type": "stream",
     "text": [
      "p-value annotation legend:\n",
      "****: 1.00e-03 < p <= 1.00e-04\n",
      "***: 1.00e-02 < p <= 1.00e-03\n",
      "**: 5.00e-02 < p <= 1.00e-02\n",
      "*: 1.00e+00 < p <= 5.00e-02\n",
      "ns: p <= 1.00e+00\n",
      "\n",
      "Thur v.s. Fri: Mann-Whitney-Wilcoxon test two-sided, P_val:6.477e-01 U_stat=6.305e+02\n",
      "Thur v.s. Sat: Mann-Whitney-Wilcoxon test two-sided, P_val:4.690e-02 U_stat=2.180e+03\n",
      "Sun v.s. Fri: Mann-Whitney-Wilcoxon test two-sided, P_val:2.680e-02 U_stat=9.605e+02\n"
     ]
    },
    {
     "data": {
      "text/plain": "<Figure size 432x288 with 1 Axes>",
      "image/png": "[encoded data removed]"
     },
     "metadata": {},
     "output_type": "display_data"
    }
   ],
   "source": [
    "x = \"day\"\n",
    "y = \"total_bill\"\n",
    "order = ['Sun', 'Thur', 'Fri', 'Sat']\n",
    "ax = sns.boxplot(data=df, x=x, y=y, order=order)\n",
    "annot = Annotator(ax, [(\"Thur\", \"Fri\"), (\"Thur\", \"Sat\"), (\"Fri\", \"Sun\")], data=df, x=x, y=y, order=order)\n",
    "annot.configure(test='Mann-Whitney', text_format='star', loc='outside', verbose=2)\n",
    "annot.apply_test()\n",
    "ax, test_results = annot.add_stat_annotation()\n",
    "plt.savefig('example_non-hue_outside.png', dpi=300, bbox_inches='tight')"
   ]
  },
  {
   "cell_type": "markdown",
   "metadata": {},
   "source": [
    "#### Statistical test results"
   ]
  },
  {
   "cell_type": "markdown",
   "metadata": {},
   "source": [
    "The `add_stat_annotation` method returns the tuple `ax, test_results`, where `test_results` is a list of `StatResult` objects, containing both the original data of the boxes and the statistical test results (p-value, etc)."
   ]
  },
  {
   "cell_type": "code",
   "execution_count": 4,
   "metadata": {},
   "outputs": [
    {
     "name": "stdout",
     "output_type": "stream",
     "text": [
      "Mann-Whitney-Wilcoxon test two-sided, P_val:6.477e-01 U_stat=6.305e+02\n",
      "Mann-Whitney-Wilcoxon test two-sided, P_val:4.690e-02 U_stat=2.180e+03\n",
      "Mann-Whitney-Wilcoxon test two-sided, P_val:2.680e-02 U_stat=9.605e+02\n",
      "\n",
      "StatResult attributes: dict_keys(['test_description', 'test_short_name', 'stat_str', 'stat_value', 'pval', '_corrected_significance', '_correction_method', 'alpha', 'box1', 'box2'])\n"
     ]
    }
   ],
   "source": [
    "for res in test_results:\n",
    "    print(res)\n",
    "\n",
    "print(\"\\nStatResult attributes:\", test_results[0].__dict__.keys())"
   ]
  },
  {
   "cell_type": "markdown",
   "metadata": {},
   "source": [
    "#### Applying a multiple comparisons correction (requires `statsmodels`)\n",
    "In this example, note that previously configured parameters are remembered if not changed.\n",
    "This is the case for `box_pairs`, `test`, `text_format`, and `loc`.\n",
    "\n",
    "To avoid this, you can call `annot.reset_configuration()` to get back to all default/unset values."
   ]
  },
  {
   "cell_type": "code",
   "execution_count": 5,
   "metadata": {},
   "outputs": [
    {
     "name": "stdout",
     "output_type": "stream",
     "text": [
      "p-value annotation legend:\n",
      "****: 1.00e-03 < p <= 1.00e-04\n",
      "***: 1.00e-02 < p <= 1.00e-03\n",
      "**: 5.00e-02 < p <= 1.00e-02\n",
      "*: 1.00e+00 < p <= 5.00e-02\n",
      "ns: p <= 1.00e+00\n",
      "\n",
      "Thur v.s. Fri: Mann-Whitney-Wilcoxon test two-sided with Bonferroni correction, P_val:1.000e+00 U_stat=6.305e+02\n",
      "Thur v.s. Sat: Mann-Whitney-Wilcoxon test two-sided with Bonferroni correction, P_val:1.407e-01 U_stat=2.180e+03\n",
      "Sun v.s. Fri: Mann-Whitney-Wilcoxon test two-sided with Bonferroni correction, P_val:8.041e-02 U_stat=9.605e+02\n"
     ]
    },
    {
     "data": {
      "text/plain": "<Figure size 432x288 with 1 Axes>",
      "image/png": "[encoded data removed]"
     },
     "metadata": {},
     "output_type": "display_data"
    }
   ],
   "source": [
    "plotting = {\n",
    "    \"data\": df,\n",
    "    \"x\": x,\n",
    "    \"y\": y,\n",
    "    \"order\": order\n",
    "}\n",
    "ax = sns.boxplot(**plotting)\n",
    "annot.new_plot(ax, **plotting)\n",
    "annot.configure(comparisons_correction=\"Bonferroni\", verbose=2)\n",
    "annot.apply_test()\n",
    "test_results = annot.add_stat_annotation()"
   ]
  },
  {
   "cell_type": "markdown",
   "source": [
    "Or another"
   ],
   "metadata": {
    "collapsed": false,
    "pycharm": {
     "name": "#%% md\n"
    }
   }
  },
  {
   "cell_type": "code",
   "source": [
    "x = \"day\"\n",
    "y = \"total_bill\"\n",
    "order = ['Sun', 'Thur', 'Fri', 'Sat']\n",
    "ax = sns.boxplot(data=df, x=x, y=y, order=order)\n",
    "annot.new_plot(ax, data=df, x=x, y=y, order=order)\n",
    "annot.configure(comparisons_correction=\"BH\")\n",
    "annot.apply_test()\n",
    "test_results = annot.add_stat_annotation()"
   ],
   "metadata": {
    "collapsed": false,
    "pycharm": {
     "name": "#%%\n"
    }
   },
   "execution_count": 7,
   "outputs": [
    {
     "name": "stdout",
     "output_type": "stream",
     "text": [
      "p-value annotation legend:\n",
      "****: 1.00e-03 < p <= 1.00e-04\n",
      "***: 1.00e-02 < p <= 1.00e-03\n",
      "**: 5.00e-02 < p <= 1.00e-02\n",
      "*: 1.00e+00 < p <= 5.00e-02\n",
      "ns: p <= 1.00e+00\n",
      "\n",
      "Thur v.s. Fri: Mann-Whitney-Wilcoxon test two-sided with Benjamini-Hochberg correction, P_val:6.477e-01 U_stat=6.305e+02\n",
      "Thur v.s. Sat: Mann-Whitney-Wilcoxon test two-sided with Benjamini-Hochberg correction, P_val:4.690e-02 (ns) U_stat=2.180e+03\n",
      "Sun v.s. Fri: Mann-Whitney-Wilcoxon test two-sided with Benjamini-Hochberg correction, P_val:2.680e-02 (ns) U_stat=9.605e+02\n"
     ]
    },
    {
     "data": {
      "text/plain": "<Figure size 432x288 with 1 Axes>",
      "image/png": "[encoded data removed]"
     },
     "metadata": {},
     "output_type": "display_data"
    }
   ]
  },
  {
   "cell_type": "markdown",
   "metadata": {},
   "source": [
    "#### Location"
   ]
  },
  {
   "cell_type": "markdown",
   "metadata": {},
   "source": [
    "Statistical test annotation can be either drawn inside the plot area (`loc='inside'`), or on top on it (`loc='outside'`)."
   ]
  },
  {
   "cell_type": "code",
   "execution_count": 9,
   "metadata": {},
   "outputs": [
    {
     "name": "stdout",
     "output_type": "stream",
     "text": [
      "p-value annotation legend:\n",
      "****: 1.00e-03 < p <= 1.00e-04\n",
      "***: 1.00e-02 < p <= 1.00e-03\n",
      "**: 5.00e-02 < p <= 1.00e-02\n",
      "*: 1.00e+00 < p <= 5.00e-02\n",
      "ns: p <= 1.00e+00\n",
      "\n",
      "Thur v.s. Fri: Custom statistical test with Benjamini-Hochberg correction, P_val:1.000e-01\n",
      "Thur v.s. Sat: Custom statistical test with Benjamini-Hochberg correction, P_val:1.000e-01\n",
      "Sun v.s. Fri: Custom statistical test with Benjamini-Hochberg correction, P_val:1.000e-03\n"
     ]
    },
    {
     "data": {
      "text/plain": "<Figure size 432x288 with 1 Axes>",
      "image/png": "[encoded data removed]"
     },
     "metadata": {},
     "output_type": "display_data"
    }
   ],
   "source": [
    "x = \"day\"\n",
    "y = \"total_bill\"\n",
    "order = ['Sun', 'Thur', 'Fri', 'Sat']\n",
    "ax = sns.boxplot(data=df, x=x, y=y, order=order)\n",
    "annot.new_plot(ax, data=df, x=x, y=y, order=order)\n",
    "annot.configure(test=None, loc='inside')\n",
    "annot.set_custom_annotation(pvalues=[0.1, 0.1, 0.001])\n",
    "annot.add_stat_annotation()\n",
    "plt.savefig('example_non-hue_inside.png', dpi=300, bbox_inches='tight')"
   ]
  },
  {
   "cell_type": "markdown",
   "metadata": {},
   "source": [
    "### Boxplot with hue"
   ]
  },
  {
   "cell_type": "markdown",
   "metadata": {},
   "source": [
    "We create boxes with unequal ymax position."
   ]
  },
  {
   "cell_type": "code",
   "execution_count": 10,
   "metadata": {},
   "outputs": [
    {
     "data": {
      "text/plain": "   carat      cut color clarity  depth  table  price     x     y     z\n0   0.23    Ideal     E     SI2   61.5   55.0    326  3.95  3.98  2.43\n1   0.21  Premium     E     SI1   59.8   61.0    326  3.89  3.84  2.31\n2   0.23     Good     E     VS1   56.9   65.0    327  4.05  4.07  2.31\n3   0.29  Premium     I     VS2   62.4   58.0    334  4.20  4.23  2.63\n4   0.31     Good     J     SI2   63.3   58.0    335  4.34  4.35  2.75",
      "text/html": "<div>\n<style scoped>\n    .dataframe tbody tr th:only-of-type {\n        vertical-align: middle;\n    }\n\n    .dataframe tbody tr th {\n        vertical-align: top;\n    }\n\n    .dataframe thead th {\n        text-align: right;\n    }\n</style>\n<table border=\"1\" class=\"dataframe\">\n  <thead>\n    <tr style=\"text-align: right;\">\n      <th></th>\n      <th>carat</th>\n      <th>cut</th>\n      <th>color</th>\n      <th>clarity</th>\n      <th>depth</th>\n      <th>table</th>\n      <th>price</th>\n      <th>x</th>\n      <th>y</th>\n      <th>z</th>\n    </tr>\n  </thead>\n  <tbody>\n    <tr>\n      <th>0</th>\n      <td>0.23</td>\n      <td>Ideal</td>\n      <td>E</td>\n      <td>SI2</td>\n      <td>61.5</td>\n      <td>55.0</td>\n      <td>326</td>\n      <td>3.95</td>\n      <td>3.98</td>\n      <td>2.43</td>\n    </tr>\n    <tr>\n      <th>1</th>\n      <td>0.21</td>\n      <td>Premium</td>\n      <td>E</td>\n      <td>SI1</td>\n      <td>59.8</td>\n      <td>61.0</td>\n      <td>326</td>\n      <td>3.89</td>\n      <td>3.84</td>\n      <td>2.31</td>\n    </tr>\n    <tr>\n      <th>2</th>\n      <td>0.23</td>\n      <td>Good</td>\n      <td>E</td>\n      <td>VS1</td>\n      <td>56.9</td>\n      <td>65.0</td>\n      <td>327</td>\n      <td>4.05</td>\n      <td>4.07</td>\n      <td>2.31</td>\n    </tr>\n    <tr>\n      <th>3</th>\n      <td>0.29</td>\n      <td>Premium</td>\n      <td>I</td>\n      <td>VS2</td>\n      <td>62.4</td>\n      <td>58.0</td>\n      <td>334</td>\n      <td>4.20</td>\n      <td>4.23</td>\n      <td>2.63</td>\n    </tr>\n    <tr>\n      <th>4</th>\n      <td>0.31</td>\n      <td>Good</td>\n      <td>J</td>\n      <td>SI2</td>\n      <td>63.3</td>\n      <td>58.0</td>\n      <td>335</td>\n      <td>4.34</td>\n      <td>4.35</td>\n      <td>2.75</td>\n    </tr>\n  </tbody>\n</table>\n</div>"
     },
     "execution_count": 10,
     "metadata": {},
     "output_type": "execute_result"
    }
   ],
   "source": [
    "df = sns.load_dataset('diamonds')\n",
    "df = df[df['color'].map(lambda x: x in 'EIJ')]\n",
    "# Modifying data to yield unequal boxes in the hue value\n",
    "df.loc[df['cut'] == 'Ideal', 'price'] = df.loc[df['cut'] == 'Ideal', 'price'].map(lambda x: min(x, 5000))\n",
    "df.loc[df['cut'] == 'Premium', 'price'] = df.loc[df['cut'] == 'Premium', 'price'].map(lambda x: min(x, 7500))\n",
    "df.loc[df['cut'] == 'Good', 'price'] = df.loc[df['cut'] == 'Good', 'price'].map(lambda x: min(x, 15000))\n",
    "df.loc[df['cut'] == 'Very Good', 'price'] = df.loc[df['cut'] == 'Very Good', 'price'].map(lambda x: min(x, 3000))\n",
    "df.head()"
   ]
  },
  {
   "cell_type": "code",
   "execution_count": 11,
   "metadata": {
    "scrolled": false
   },
   "outputs": [
    {
     "name": "stdout",
     "output_type": "stream",
     "text": [
      "p-value annotation legend:\n",
      "****: 1.00e-03 < p <= 1.00e-04\n",
      "***: 1.00e-02 < p <= 1.00e-03\n",
      "**: 5.00e-02 < p <= 1.00e-02\n",
      "*: 1.00e+00 < p <= 5.00e-02\n",
      "ns: p <= 1.00e+00\n",
      "\n",
      "E_Ideal v.s. E_Premium: Mann-Whitney-Wilcoxon test two-sided with Benjamini-Hochberg correction, P_val:1.560e-31 U_stat=3.756e+06\n",
      "I_Ideal v.s. I_Premium: Mann-Whitney-Wilcoxon test two-sided with Benjamini-Hochberg correction, P_val:5.141e-61 U_stat=1.009e+06\n",
      "J_Ideal v.s. J_Premium: Mann-Whitney-Wilcoxon test two-sided with Benjamini-Hochberg correction, P_val:4.018e-37 U_stat=2.337e+05\n",
      "E_Ideal v.s. E_Good: Mann-Whitney-Wilcoxon test two-sided with Benjamini-Hochberg correction, P_val:5.201e-19 U_stat=1.480e+06\n",
      "I_Ideal v.s. I_Good: Mann-Whitney-Wilcoxon test two-sided with Benjamini-Hochberg correction, P_val:5.008e-13 U_stat=4.359e+05\n",
      "J_Ideal v.s. J_Good: Mann-Whitney-Wilcoxon test two-sided with Benjamini-Hochberg correction, P_val:1.006e-04 U_stat=1.174e+05\n",
      "E_Ideal v.s. E_Very Good: Mann-Whitney-Wilcoxon test two-sided with Benjamini-Hochberg correction, P_val:1.736e-02 U_stat=4.850e+06\n",
      "E_Good v.s. I_Ideal: Mann-Whitney-Wilcoxon test two-sided with Benjamini-Hochberg correction, P_val:5.906e-01 U_stat=9.882e+05\n",
      "I_Premium v.s. J_Ideal: Mann-Whitney-Wilcoxon test two-sided with Benjamini-Hochberg correction, P_val:5.159e-27 U_stat=8.084e+05\n"
     ]
    },
    {
     "data": {
      "text/plain": "<Figure size 432x288 with 1 Axes>",
      "image/png": "[encoded data removed]"
     },
     "metadata": {},
     "output_type": "display_data"
    }
   ],
   "source": [
    "x = \"color\"\n",
    "y = \"price\"\n",
    "hue = \"cut\"\n",
    "hue_order=['Ideal', 'Premium', 'Good', 'Very Good', 'Fair']\n",
    "order = [\"E\", \"I\", \"J\"]\n",
    "box_pairs=[\n",
    "    ((\"E\", \"Ideal\"), (\"E\", \"Very Good\")),\n",
    "    ((\"E\", \"Ideal\"), (\"E\", \"Premium\")),\n",
    "    ((\"E\", \"Ideal\"), (\"E\", \"Good\")),\n",
    "    ((\"I\", \"Ideal\"), (\"I\", \"Premium\")),\n",
    "    ((\"I\", \"Ideal\"), (\"I\", \"Good\")),\n",
    "    ((\"J\", \"Ideal\"), (\"J\", \"Premium\")),\n",
    "    ((\"J\", \"Ideal\"), (\"J\", \"Good\")),\n",
    "    ((\"E\", \"Good\"), (\"I\", \"Ideal\")),\n",
    "    ((\"I\", \"Premium\"), (\"J\", \"Ideal\")),\n",
    "    ]\n",
    "ax = sns.boxplot(data=df, x=x, y=y, order=order, hue=hue, hue_order=hue_order)\n",
    "annot.new_plot(ax, box_pairs, data=df, x=x, y=y, order=order, hue=hue, hue_order=hue_order)\n",
    "annot.configure(test='Mann-Whitney', verbose=2)\n",
    "annot.apply_test()\n",
    "annot.add_stat_annotation()\n",
    "plt.legend(loc='upper left', bbox_to_anchor=(1.03, 1))\n",
    "plt.savefig('example_hue_layout.png', dpi=300, bbox_inches='tight')"
   ]
  },
  {
   "cell_type": "markdown",
   "metadata": {},
   "source": [
    "### Boxplot with bucketed categories"
   ]
  },
  {
   "cell_type": "code",
   "execution_count": null,
   "metadata": {},
   "outputs": [],
   "source": [
    "df = sns.load_dataset(\"tips\")\n",
    "df['tip_bucket'] = pd.cut(df['tip'], 3)\n",
    "df.head()"
   ]
  },
  {
   "cell_type": "code",
   "execution_count": null,
   "metadata": {
    "scrolled": true
   },
   "outputs": [],
   "source": [
    "# In this case we just have to pass the list of categories objects to the add_stat_annotation function.\n",
    "tip_bucket_list = df['tip_bucket'].unique()\n",
    "tip_bucket_list"
   ]
  },
  {
   "cell_type": "code",
   "execution_count": null,
   "metadata": {
    "scrolled": false
   },
   "outputs": [],
   "source": [
    "x = \"day\"\n",
    "y = \"total_bill\"\n",
    "hue = \"tip_bucket\"\n",
    "data = df\n",
    "ax = sns.boxplot(data=df, x=x, y=y, hue=hue)\n",
    "add_stat_annotation(\n",
    "    ax, data=df, x=x, y=y, hue=hue,\n",
    "    box_pairs=[((\"Sat\", tip_bucket_list[2]), (\"Fri\", tip_bucket_list[0]))],\n",
    "    test='t-test_ind', loc='inside', verbose=2)\n",
    "\n",
    "plt.legend(loc='upper left', bbox_to_anchor=(1.03, 1))\n",
    "plt.savefig('example_bucketed.png', dpi=300, bbox_inches='tight')"
   ]
  },
  {
   "cell_type": "markdown",
   "metadata": {},
   "source": [
    "### Barplot with hue"
   ]
  },
  {
   "cell_type": "markdown",
   "metadata": {},
   "source": [
    "Note: Support for barplot has not been fully implemented yet."
   ]
  },
  {
   "cell_type": "code",
   "execution_count": null,
   "metadata": {},
   "outputs": [],
   "source": [
    "df = sns.load_dataset('diamonds')\n",
    "df = df[df['color'].map(lambda c: c in 'EIJ')]\n",
    "\n",
    "x = \"clarity\"\n",
    "y = \"carat\"\n",
    "hue = \"color\"\n",
    "hue_order=[\"E\", \"I\", \"J\"]\n",
    "box_pairs = [\n",
    "    ((\"SI2\", \"E\"), (\"SI1\", \"E\"))\n",
    "    ]\n",
    "box_pairs = box_pairs + [((clar, 'I'), (clar, 'J')) for clar in df['clarity'].unique()]\n",
    "width = 0.4\n",
    "ax = sns.barplot(data=df, x=x, y=y, hue=hue, hue_order=hue_order)\n",
    "add_stat_annotation(\n",
    "    ax, plot='barplot', data=df, x=x, y=y, hue=hue, hue_order=hue_order,\n",
    "    box_pairs=box_pairs, test='t-test_ind', loc='inside', verbose=2)\n",
    "\n",
    "plt.legend(loc='upper left', bbox_to_anchor=(1.03, 1), title=hue)\n",
    "plt.savefig('example_barplot_hue.png', dpi=300, bbox_inches='tight')"
   ]
  },
  {
   "cell_type": "markdown",
   "metadata": {},
   "source": [
    "### Tuning y offsets"
   ]
  },
  {
   "cell_type": "markdown",
   "metadata": {},
   "source": [
    "![](example_tuning_y_offsets_w_arguments.png)"
   ]
  },
  {
   "cell_type": "code",
   "execution_count": null,
   "metadata": {},
   "outputs": [],
   "source": [
    "df = sns.load_dataset(\"tips\")\n",
    "x = \"day\"\n",
    "y = \"total_bill\"\n",
    "hue = \"smoker\"\n",
    "ax = sns.boxplot(data=df, x=x, y=y, hue=hue)\n",
    "add_stat_annotation(\n",
    "    ax, data=df, x=x, y=y, hue=hue,\n",
    "    box_pairs=[((\"Thur\", \"No\"), (\"Fri\", \"No\")),\n",
    "               ((\"Sat\", \"Yes\"), (\"Sat\", \"No\")),\n",
    "               ((\"Sun\", \"No\"), (\"Thur\", \"Yes\"))],\n",
    "    test='t-test_ind', text_format='full', loc='inside',\n",
    "    comparisons_correction=None, line_offset_to_box=0.2, line_offset=0.1,\n",
    "    line_height=0.05, text_offset=8, verbose=2)\n",
    "\n",
    "plt.legend(loc='upper left', bbox_to_anchor=(1.03, 1))\n",
    "plt.savefig('example_tuning_y_offsets.svg')\n",
    "plt.savefig('example_tuning_y_offsets.png', dpi=300, bbox_inches='tight')"
   ]
  },
  {
   "cell_type": "markdown",
   "source": [
    "### Use a different test with StatTest"
   ],
   "metadata": {
    "collapsed": false
   }
  },
  {
   "cell_type": "code",
   "execution_count": null,
   "outputs": [],
   "source": [
    "from statannotations.stats.StatTest import StatTest\n",
    "\n",
    "# For example bartlett's test\n",
    "from scipy.stats import bartlett\n",
    "\n",
    "df = sns.load_dataset(\"iris\")\n",
    "x = \"species\"\n",
    "y = \"sepal_length\"\n",
    "\n",
    "box_pairs = [(\"setosa\", \"versicolor\"), (\"setosa\", \"virginica\"), (\"versicolor\", \"virginica\")]\n",
    "\n",
    "# Required descriptors for add_stat_annotation\n",
    "custom_long_name = 'Bartlett statistical test for equal variances'\n",
    "custom_short_name = 'Bartlett'\n",
    "custom_func = bartlett\n",
    "custom_test = StatTest(custom_func, custom_long_name, custom_short_name)\n",
    "\n",
    "# Then, same as usual\n",
    "ax = sns.boxplot(data=df, x=x, y=y)\n",
    "add_stat_annotation(ax, data=df, x=x, y=y, box_pairs=box_pairs,\n",
    "                    comparisons_correction=None, test=custom_test,\n",
    "                    text_format='star', verbose=2)"
   ],
   "metadata": {
    "collapsed": false,
    "pycharm": {
     "name": "#%%\n"
    }
   }
  },
  {
   "cell_type": "markdown",
   "metadata": {},
   "source": [
    "### Custom p-values as input"
   ]
  },
  {
   "cell_type": "code",
   "execution_count": null,
   "metadata": {
    "scrolled": true
   },
   "outputs": [],
   "source": [
    "from scipy.stats import bartlett\n",
    "\n",
    "test_short_name = 'Bartlett'\n",
    "pvalues = []\n",
    "for pair in box_pairs:\n",
    "    data1 = df.groupby(x)[y].get_group(pair[0])\n",
    "    data2 = df.groupby(x)[y].get_group(pair[1])\n",
    "    stat, p = bartlett(data1, data2)\n",
    "    print(\"Performing Bartlett statistical test for equal variances on pair:\",\n",
    "          pair, \"stat={:.2e} p-value={:.2e}\".format(stat, p))\n",
    "    pvalues.append(p)\n",
    "print(\"pvalues:\", pvalues)"
   ]
  },
  {
   "cell_type": "code",
   "execution_count": null,
   "metadata": {
    "scrolled": false
   },
   "outputs": [],
   "source": [
    "ax = sns.boxplot(data=df, x=x, y=y)\n",
    "add_stat_annotation(ax, data=df, x=x, y=y, box_pairs=box_pairs,\n",
    "                    perform_stat_test=False, pvalues=pvalues,\n",
    "                    test_short_name=test_short_name, text_format='star',\n",
    "                    verbose=2)"
   ]
  },
  {
   "cell_type": "markdown",
   "metadata": {},
   "source": [
    "### Custom annotation texts"
   ]
  },
  {
   "cell_type": "code",
   "execution_count": null,
   "metadata": {
    "scrolled": false
   },
   "outputs": [],
   "source": [
    "df = sns.load_dataset(\"tips\")\n",
    "x = \"day\"\n",
    "y = \"total_bill\"\n",
    "order = ['Sun', 'Thur', 'Fri', 'Sat']\n",
    "ax = sns.boxplot(data=df, x=x, y=y, order=order)\n",
    "add_stat_annotation(\n",
    "    ax, data=df, x=x, y=y, order=order,\n",
    "    box_pairs=[(\"Thur\", \"Fri\"),(\"Thur\", \"Sat\"), (\"Fri\", \"Sun\")],\n",
    "    text_annot_custom=[\"first pair\", \"second pair\", \"third pair\"],\n",
    "    perform_stat_test=False, pvalues=[0, 0, 0], loc='outside', verbose=0)\n",
    "\n",
    "plt.savefig('example_custom_text_annot.png', dpi=300, bbox_inches='tight')"
   ]
  }
 ],
 "metadata": {
  "kernelspec": {
   "display_name": "Python 3",
   "language": "python",
   "name": "python3"
  },
  "language_info": {
   "codemirror_mode": {
    "name": "ipython",
    "version": 3
   },
   "file_extension": ".py",
   "mimetype": "text/x-python",
   "name": "python",
   "nbconvert_exporter": "python",
   "pygments_lexer": "ipython3",
   "version": "3.6.9"
  },
  "toc": {
   "base_numbering": 1,
   "nav_menu": {},
   "number_sections": true,
   "sideBar": true,
   "skip_h1_title": false,
   "title_cell": "Table of Contents",
   "title_sidebar": "Contents",
   "toc_cell": false,
   "toc_position": {},
   "toc_section_display": true,
   "toc_window_display": true
  }
 },
 "nbformat": 4,
 "nbformat_minor": 2
}